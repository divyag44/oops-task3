{
 "cells": [
  {
   "cell_type": "markdown",
   "id": "550c2b0b-cabe-47de-8763-0051e062328d",
   "metadata": {},
   "source": [
    "### Q1, Create a vehicle class with an init method having instance variables as name_of_vehicle, max_speed and average_of_vehicle."
   ]
  },
  {
   "cell_type": "code",
   "execution_count": 1,
   "id": "15dfe4c2-2bf9-4caf-ba3d-a9ed735b3305",
   "metadata": {},
   "outputs": [],
   "source": [
    "#example\n",
    "class vehicle:\n",
    "    def __init__(self,name_of_vehicle,max_speed,average_of_vehicle):\n",
    "        self.__name_of_vehicle=name_of_vehicle\n",
    "        self.__max_speed=max_speed\n",
    "        self.__average_of_vehicle=average_of_vehicle"
   ]
  },
  {
   "cell_type": "markdown",
   "id": "464857ca-6348-47a5-9c29-3c3ca830723a",
   "metadata": {},
   "source": [
    "### Q2. Create a child class car from the vehicle class created in Que 1, which will inherit the vehicle class. Create a method named seating_capacity which takes capacity as an argument and returns the name of the vehicle and its seating capacity."
   ]
  },
  {
   "cell_type": "code",
   "execution_count": 24,
   "id": "7e025661-73c7-4dd5-8ab5-29eb685f4d4f",
   "metadata": {},
   "outputs": [],
   "source": [
    "class child(vehicle):\n",
    "    def child4(self):\n",
    "        pass"
   ]
  },
  {
   "cell_type": "code",
   "execution_count": 14,
   "id": "c0d0007d-dd93-401f-9a2a-55bde0004043",
   "metadata": {},
   "outputs": [],
   "source": [
    "obj_child=child(\"maruti\",465,10)"
   ]
  },
  {
   "cell_type": "markdown",
   "id": "35b77093-5cd8-4863-a759-483d3642aa75",
   "metadata": {},
   "source": [
    "### Q3. What is multiple inheritance? Write a python code to demonstrate multiple inheritance."
   ]
  },
  {
   "cell_type": "markdown",
   "id": "e0024746-99d7-44e0-b596-ddbcd94e4354",
   "metadata": {},
   "source": [
    "#### answer. multiple inheritance is a mechanism to achieve reusibility of code ,as child class can derive property of another parent class."
   ]
  },
  {
   "cell_type": "code",
   "execution_count": 31,
   "id": "49a369c0-aaab-48bc-bf81-d399000ab2da",
   "metadata": {},
   "outputs": [],
   "source": [
    "#example of inheritance\n",
    "class parent:\n",
    "    def child1(self,name,roll_no):\n",
    "        print(\"hiii 1\")\n",
    "        \n",
    "        \n",
    "class parent1:\n",
    "    def child2(self,name_say,roll_num):\n",
    "        print(\"hiiiii 2\")\n",
    "    \n",
    "class parent2(parent,parent1):\n",
    "    def child3(self):\n",
    "        print(\"hiiiiiiiiiii 3\")"
   ]
  },
  {
   "cell_type": "code",
   "execution_count": 35,
   "id": "f7043eb1-65e4-48be-adad-46a3b2af6b33",
   "metadata": {},
   "outputs": [],
   "source": [
    "obj_parent2 = parent2()"
   ]
  },
  {
   "cell_type": "code",
   "execution_count": 40,
   "id": "7708783a-3b29-464a-a988-45a225a66f0d",
   "metadata": {},
   "outputs": [
    {
     "name": "stdout",
     "output_type": "stream",
     "text": [
      "hiii 1\n"
     ]
    }
   ],
   "source": [
    "obj_parent2.child1(\"stuti\",545)"
   ]
  },
  {
   "cell_type": "code",
   "execution_count": 41,
   "id": "05baed23-d573-4e1c-be09-6b306d22932c",
   "metadata": {},
   "outputs": [
    {
     "name": "stdout",
     "output_type": "stream",
     "text": [
      "hiiiiiiiiiii 3\n"
     ]
    }
   ],
   "source": [
    "obj_parent2.child3()"
   ]
  },
  {
   "cell_type": "code",
   "execution_count": 43,
   "id": "ab7ee0c5-ea9a-4eec-b3d9-37759ddbd9ec",
   "metadata": {},
   "outputs": [
    {
     "name": "stdout",
     "output_type": "stream",
     "text": [
      "hiiiii 2\n"
     ]
    }
   ],
   "source": [
    "obj_parent2.child2(\"diya\",466)"
   ]
  },
  {
   "cell_type": "markdown",
   "id": "65b8037b-bf8b-4a50-9779-d70b821eb1cb",
   "metadata": {},
   "source": [
    "### Q4. What are getter and setter in python? Create a class and create a getter and a setter method in this class."
   ]
  },
  {
   "cell_type": "markdown",
   "id": "fc2fc166-16ae-4825-8d2f-f71e24410666",
   "metadata": {},
   "source": [
    "#### answer.In Python, getters and setters are not the same as those in other object-oriented programming languages. Basically, the main purpose of using getters and setters in object-oriented programs is to ensure data encapsulation. Private variables in python are not actually hidden fields like in other object oriented languages. Getters and Setters in python are often used when:\n",
    "\n",
    "### We use getters & setters to add validation logic around getting and setting a value.\n",
    "###    To avoid direct access of a class field i.e. private variables cannot be accessed directly or modified by external user."
   ]
  },
  {
   "cell_type": "markdown",
   "id": "eff1db76-fe7a-4464-b92b-34210f845144",
   "metadata": {},
   "source": [
    "### Q5.What is method overriding in python? Write a python code to demonstrate method overriding."
   ]
  },
  {
   "cell_type": "markdown",
   "id": "3f83c269-3361-4148-b4b8-7e75881a4e88",
   "metadata": {},
   "source": [
    "#### answer..Method overriding is an ability of any object-oriented programming language that allows a subclass or child class to provide a specific implementation of a method that is already provided by one of its super-classes or parent classes."
   ]
  },
  {
   "cell_type": "code",
   "execution_count": 56,
   "id": "a89a9a23-197d-4627-8ec3-7d3649aa7f11",
   "metadata": {},
   "outputs": [
    {
     "name": "stdout",
     "output_type": "stream",
     "text": [
      "Inside Child\n",
      "Inside Parent2\n"
     ]
    }
   ],
   "source": [
    "#example\n",
    "class Parent1():\n",
    "    def show(self):\n",
    "        print(\"Inside Parent1\")\n",
    "class Parent2():\n",
    "    def display(self):\n",
    "        print(\"Inside Parent2\")\n",
    "class Child(Parent1, Parent2):\n",
    "    def show(self):\n",
    "        print(\"Inside Child\")\n",
    "     \n",
    "        \n",
    "# Driver's code\n",
    "obj = Child()\n",
    "  \n",
    "obj.show()\n",
    "obj.display()"
   ]
  },
  {
   "cell_type": "code",
   "execution_count": null,
   "id": "817b9a59-7f6c-46d4-9be1-a5bf139b2392",
   "metadata": {},
   "outputs": [],
   "source": []
  }
 ],
 "metadata": {
  "kernelspec": {
   "display_name": "Python 3 (ipykernel)",
   "language": "python",
   "name": "python3"
  },
  "language_info": {
   "codemirror_mode": {
    "name": "ipython",
    "version": 3
   },
   "file_extension": ".py",
   "mimetype": "text/x-python",
   "name": "python",
   "nbconvert_exporter": "python",
   "pygments_lexer": "ipython3",
   "version": "3.10.8"
  }
 },
 "nbformat": 4,
 "nbformat_minor": 5
}
